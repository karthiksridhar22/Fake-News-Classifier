{
 "cells": [
  {
   "cell_type": "code",
   "execution_count": 13,
   "metadata": {},
   "outputs": [],
   "source": [
    "import numpy as np\n",
    "import pandas as pd\n",
    "import re\n",
    "from nltk.corpus import stopwords\n",
    "from nltk.stem.porter import PorterStemmer\n",
    "from sklearn.feature_extraction.text import TfidfVectorizer\n",
    "from sklearn.model_selection import train_test_split\n",
    "from sklearn.linear_model import LogisticRegression\n",
    "from sklearn.metrics import accuracy_score"
   ]
  },
  {
   "cell_type": "code",
   "execution_count": 14,
   "metadata": {},
   "outputs": [
    {
     "name": "stderr",
     "output_type": "stream",
     "text": [
      "[nltk_data] Downloading package stopwords to\n",
      "[nltk_data]     /Users/karthiksridhar/nltk_data...\n",
      "[nltk_data]   Package stopwords is already up-to-date!\n"
     ]
    },
    {
     "data": {
      "text/plain": [
       "True"
      ]
     },
     "execution_count": 14,
     "metadata": {},
     "output_type": "execute_result"
    }
   ],
   "source": [
    "import nltk\n",
    "nltk.download('stopwords')"
   ]
  },
  {
   "cell_type": "code",
   "execution_count": 15,
   "metadata": {},
   "outputs": [
    {
     "name": "stdout",
     "output_type": "stream",
     "text": [
      "['i', 'me', 'my', 'myself', 'we', 'our', 'ours', 'ourselves', 'you', \"you're\", \"you've\", \"you'll\", \"you'd\", 'your', 'yours', 'yourself', 'yourselves', 'he', 'him', 'his', 'himself', 'she', \"she's\", 'her', 'hers', 'herself', 'it', \"it's\", 'its', 'itself', 'they', 'them', 'their', 'theirs', 'themselves', 'what', 'which', 'who', 'whom', 'this', 'that', \"that'll\", 'these', 'those', 'am', 'is', 'are', 'was', 'were', 'be', 'been', 'being', 'have', 'has', 'had', 'having', 'do', 'does', 'did', 'doing', 'a', 'an', 'the', 'and', 'but', 'if', 'or', 'because', 'as', 'until', 'while', 'of', 'at', 'by', 'for', 'with', 'about', 'against', 'between', 'into', 'through', 'during', 'before', 'after', 'above', 'below', 'to', 'from', 'up', 'down', 'in', 'out', 'on', 'off', 'over', 'under', 'again', 'further', 'then', 'once', 'here', 'there', 'when', 'where', 'why', 'how', 'all', 'any', 'both', 'each', 'few', 'more', 'most', 'other', 'some', 'such', 'no', 'nor', 'not', 'only', 'own', 'same', 'so', 'than', 'too', 'very', 's', 't', 'can', 'will', 'just', 'don', \"don't\", 'should', \"should've\", 'now', 'd', 'll', 'm', 'o', 're', 've', 'y', 'ain', 'aren', \"aren't\", 'couldn', \"couldn't\", 'didn', \"didn't\", 'doesn', \"doesn't\", 'hadn', \"hadn't\", 'hasn', \"hasn't\", 'haven', \"haven't\", 'isn', \"isn't\", 'ma', 'mightn', \"mightn't\", 'mustn', \"mustn't\", 'needn', \"needn't\", 'shan', \"shan't\", 'shouldn', \"shouldn't\", 'wasn', \"wasn't\", 'weren', \"weren't\", 'won', \"won't\", 'wouldn', \"wouldn't\"]\n"
     ]
    }
   ],
   "source": [
    "print(stopwords.words('english'))"
   ]
  },
  {
   "cell_type": "markdown",
   "metadata": {},
   "source": [
    "Data Preprocessing "
   ]
  },
  {
   "cell_type": "code",
   "execution_count": 21,
   "metadata": {},
   "outputs": [
    {
     "name": "stdout",
     "output_type": "stream",
     "text": [
      "Epoch 1/10\n",
      "4000/4000 [==============================] - 2s 423us/step - loss: 0.4580 - accuracy: 0.9276\n",
      "Epoch 2/10\n",
      "4000/4000 [==============================] - 2s 432us/step - loss: 0.2448 - accuracy: 0.9617\n",
      "Epoch 3/10\n",
      "4000/4000 [==============================] - 2s 421us/step - loss: 0.1667 - accuracy: 0.9722\n",
      "Epoch 4/10\n",
      "4000/4000 [==============================] - 2s 427us/step - loss: 0.1257 - accuracy: 0.9796\n",
      "Epoch 5/10\n",
      "4000/4000 [==============================] - 2s 419us/step - loss: 0.1000 - accuracy: 0.9829\n",
      "Epoch 6/10\n",
      "4000/4000 [==============================] - 2s 427us/step - loss: 0.0821 - accuracy: 0.9861\n",
      "Epoch 7/10\n",
      "4000/4000 [==============================] - 2s 418us/step - loss: 0.0689 - accuracy: 0.9886\n",
      "Epoch 8/10\n",
      "4000/4000 [==============================] - 2s 429us/step - loss: 0.0586 - accuracy: 0.9909\n",
      "Epoch 9/10\n",
      "4000/4000 [==============================] - 2s 470us/step - loss: 0.0506 - accuracy: 0.9923\n",
      "Epoch 10/10\n",
      "4000/4000 [==============================] - 2s 437us/step - loss: 0.0438 - accuracy: 0.9940\n",
      "63/63 [==============================] - 0s 520us/step - loss: 0.0652 - accuracy: 0.9855\n",
      "Accuracy: 0.9854999780654907\n"
     ]
    }
   ],
   "source": [
    "import pandas as pd\n",
    "import numpy as np\n",
    "import tensorflow as tf\n",
    "from sklearn.model_selection import train_test_split\n",
    "from sklearn.feature_extraction.text import TfidfVectorizer\n",
    "import re\n",
    "\n",
    "# Load and preprocess data\n",
    "def load_and_preprocess_data(fake_path, true_path, num_features, sample_size):\n",
    "    fake_news = pd.read_csv(fake_path)\n",
    "    true_news = pd.read_csv(true_path)\n",
    "    fake_sample = fake_news.sample(n=sample_size // 2, random_state=1)\n",
    "    true_sample = true_news.sample(n=sample_size // 2, random_state=1)\n",
    "    combined_news = pd.concat([fake_sample.assign(label=0), true_sample.assign(label=1)])\n",
    "    combined_news['text'] = combined_news['text'].apply(lambda x: re.sub(r'\\W', ' ', str(x)).lower())\n",
    "    vectorizer = TfidfVectorizer(max_features=num_features)\n",
    "    X = vectorizer.fit_transform(combined_news['text']).toarray()\n",
    "    y = combined_news['label'].values\n",
    "    return X, y\n",
    "\n",
    "# Define the logistic regression model\n",
    "class LogisticRegressionModel(tf.keras.Model):\n",
    "    def __init__(self, num_features):\n",
    "        super(LogisticRegressionModel, self).__init__()\n",
    "        self.dense = tf.keras.layers.Dense(1, activation='sigmoid', input_shape=(num_features,))\n",
    "\n",
    "    def call(self, x):\n",
    "        return self.dense(x)\n",
    "\n",
    "# Main execution\n",
    "num_features = 10000\n",
    "sample_size = 10000\n",
    "X, y = load_and_preprocess_data('Fake.csv', 'True.csv', num_features, sample_size)\n",
    "X_train, X_test, y_train, y_test = train_test_split(X, y, test_size=0.2, random_state=1)\n",
    "model = LogisticRegressionModel(num_features)\n",
    "model.compile(optimizer='adam', loss='binary_crossentropy', metrics=['accuracy'])\n",
    "model.fit(X_train, y_train, epochs=10, batch_size=2)\n",
    "loss, accuracy = model.evaluate(X_test, y_test)\n",
    "print(f'Accuracy: {accuracy}')\n"
   ]
  },
  {
   "cell_type": "code",
   "execution_count": null,
   "metadata": {},
   "outputs": [],
   "source": []
  }
 ],
 "metadata": {
  "kernelspec": {
   "display_name": "Python 3",
   "language": "python",
   "name": "python3"
  },
  "language_info": {
   "codemirror_mode": {
    "name": "ipython",
    "version": 3
   },
   "file_extension": ".py",
   "mimetype": "text/x-python",
   "name": "python",
   "nbconvert_exporter": "python",
   "pygments_lexer": "ipython3",
   "version": "3.11.5"
  }
 },
 "nbformat": 4,
 "nbformat_minor": 2
}
